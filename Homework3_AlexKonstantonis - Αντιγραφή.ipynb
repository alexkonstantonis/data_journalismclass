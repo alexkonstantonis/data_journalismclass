{
 "cells": [
  {
   "cell_type": "markdown",
   "id": "6691081a-b692-4517-85b3-9b60cf1859be",
   "metadata": {},
   "source": [
    "# **0. Import the libraries you will need to use; do any other set ups**"
   ]
  },
  {
   "cell_type": "code",
   "execution_count": null,
   "id": "60528d2a-d29f-4c86-b1a9-6414a7365527",
   "metadata": {},
   "outputs": [],
   "source": [
    "import pandas as pd\n",
    "import matplotlib.pyplot as plt"
   ]
  },
  {
   "cell_type": "code",
   "execution_count": null,
   "id": "eb96465f-cce5-4233-9731-6248ec82c684",
   "metadata": {},
   "outputs": [],
   "source": [
    "#run this cell and we will speak about this in class\n",
    "pd.set_option('display.float_format', lambda x: '%.1f' % x)"
   ]
  },
  {
   "cell_type": "markdown",
   "id": "524ca427-5f02-471e-a038-ca19eb7472b4",
   "metadata": {},
   "source": [
    "# **1. Read your datasets and check out whatever you wish in order to make sure that you know your data**"
   ]
  },
  {
   "cell_type": "code",
   "execution_count": null,
   "id": "f9be7514-2efa-4717-93a9-7923edb25f0f",
   "metadata": {},
   "outputs": [],
   "source": [
    "dataframe1 = pd.read_excel('API_NY.GDP.MKTP.CD_DS2_en_excel_v2_4023900.xls', \"2020\")\n",
    "dataframe1"
   ]
  },
  {
   "cell_type": "code",
   "execution_count": null,
   "id": "ed0606f9-393d-480c-80d7-3f8570e2e033",
   "metadata": {},
   "outputs": [],
   "source": [
    "dataframe2 = pd.read_excel('resourcetradeearth_russia_all_wheat.xlsx', \"Importers_2020\")\n",
    "dataframe2"
   ]
  },
  {
   "cell_type": "code",
   "execution_count": null,
   "id": "88b55bd9-9bf3-4d60-b8a3-c15c21267ee5",
   "metadata": {},
   "outputs": [],
   "source": [
    "dataframe3 = pd.read_excel('resourcetradeearth_ukraine_all_wheat.xlsx', \"Importers_2020\")\n",
    "\n",
    "dataframe3 = dataframe3.loc[:, ~dataframe3.columns.str.contains('^Unnamed')]"
   ]
  },
  {
   "cell_type": "markdown",
   "id": "86c0a051-443b-4c4f-bf4d-3ec5f22b8e4a",
   "metadata": {},
   "source": [
    "# **2. Based on your different datasets, create one single dataset to work with. This dataset should include only the variables we will really need:**"
   ]
  },
  {
   "cell_type": "code",
   "execution_count": null,
   "id": "0f82d0a4-7a79-436f-a0cf-c48ca905174a",
   "metadata": {},
   "outputs": [],
   "source": [
    "dataframe1 = dataframe1.rename(columns={dataframe1.columns[0]:'country_name',\n",
    "                         dataframe1.columns[1]:'country_code',\n",
    "                         dataframe1.columns[3]:'pop'})\n",
    "\n",
    "dataframe1"
   ]
  },
  {
   "cell_type": "code",
   "execution_count": null,
   "id": "a3ffc389-6a21-43e6-af89-94c39c37c53f",
   "metadata": {},
   "outputs": [],
   "source": [
    "dataframe2 = dataframe2.rename(columns={dataframe2.columns[1]:'country_code',\n",
    "                         dataframe2.columns[2]:'importer',\n",
    "                         dataframe2.columns[3]:'importer_region',\n",
    "                         dataframe2.columns[6]:'value_1000usd_for_russia',\n",
    "                         dataframe2.columns[7]:'weight_1000kg_for_russia'})\n",
    "\n",
    "dataframe2"
   ]
  },
  {
   "cell_type": "code",
   "execution_count": null,
   "id": "e45d83df-81f0-425f-b791-f5cc98e52893",
   "metadata": {},
   "outputs": [],
   "source": [
    "dataframe3 = dataframe3.rename(columns={dataframe3.columns[1]:'country_code',\n",
    "                         dataframe3.columns[2]:'importer',\n",
    "                         dataframe3.columns[3]:'importer_region',\n",
    "                         dataframe3.columns[6]:'value_1000usd_for_ukraine',\n",
    "                         dataframe3.columns[7]:'weight_1000kg_for_ukraine'})\n",
    "\n",
    "dataframe3"
   ]
  },
  {
   "cell_type": "code",
   "execution_count": null,
   "id": "de5b808d-bbc7-4ae9-8a4d-11cf6d62dd87",
   "metadata": {},
   "outputs": [],
   "source": [
    "dataframe4 = dataframe1[['country_code','GDP','pop']]\n",
    "dataframe4"
   ]
  },
  {
   "cell_type": "code",
   "execution_count": null,
   "id": "e2ac4f17-26ee-44b0-bca7-8bb3ecd75ceb",
   "metadata": {},
   "outputs": [],
   "source": [
    "dataframe5=dataframe2[['country_code','importer','importer_region','value_1000usd_for_russia','weight_1000kg_for_russia']]\n",
    "dataframe5"
   ]
  },
  {
   "cell_type": "code",
   "execution_count": null,
   "id": "cdd609ee-6bb6-4830-b353-7cd4d17202bc",
   "metadata": {},
   "outputs": [],
   "source": [
    "dataframe6=dataframe3[['country_code','importer','importer_region','value_1000usd_for_ukraine','weight_1000kg_for_ukraine']]\n",
    "dataframe6"
   ]
  },
  {
   "cell_type": "code",
   "execution_count": null,
   "id": "9db50a31-7e1e-4a8e-8b45-dd37bb765b17",
   "metadata": {},
   "outputs": [],
   "source": [
    "dataframe7 = pd.merge(dataframe4, dataframe5, on='country_code', how='left')\n",
    "dataframe7"
   ]
  },
  {
   "cell_type": "code",
   "execution_count": null,
   "id": "fd2e4677-241e-4077-9419-9033a67ca9f4",
   "metadata": {},
   "outputs": [],
   "source": [
    "dataframe8 = pd.merge(dataframe7, dataframe6, on=['country_code','importer','importer_region'], how='left')\n",
    "desired_order = ['country_code', 'importer', 'importer_region', 'value_1000usd_for_russia', 'value_1000usd_for_ukraine','weight_1000kg_for_russia','weight_1000kg_for_ukraine','GDP','pop']\n",
    "dataframe9= dataframe8[desired_order]\n",
    "dataframe9"
   ]
  },
  {
   "cell_type": "code",
   "execution_count": null,
   "id": "14fb79c4-4ec5-4551-9b94-cb148fc3bb0f",
   "metadata": {},
   "outputs": [],
   "source": [
    "dataframe9[dataframe9.duplicated(keep=False)]\n",
    "dataframe9 = dataframe9.reset_index().drop(['index'],axis=1)\n",
    "\n",
    "dataframe9"
   ]
  },
  {
   "cell_type": "markdown",
   "id": "63830f3c-d817-4f7d-a88e-f50b7da4387a",
   "metadata": {},
   "source": [
    "# **3a. Display only rows that refer to Asia's imports from either Ukraine or Russia, without including China's imports**"
   ]
  },
  {
   "cell_type": "code",
   "execution_count": null,
   "id": "1fb073b0-b180-4846-a6cf-9b90481d678d",
   "metadata": {},
   "outputs": [],
   "source": [
    "dataframe10 = dataframe9[(dataframe9.importer_region.str.contains('Asia',case=False))&(dataframe9.importer_region.str.contains('China',case=False))]\n",
    "dataframe10"
   ]
  },
  {
   "cell_type": "markdown",
   "id": "b4bb6206-da80-4387-ba6a-4a213fc05f20",
   "metadata": {},
   "source": [
    "# **3b. How many rows are those?**"
   ]
  },
  {
   "cell_type": "code",
   "execution_count": null,
   "id": "72d72cfc-2725-4680-b3b8-2ac4ef743180",
   "metadata": {},
   "outputs": [],
   "source": [
    "row_count = len(dataframe10)\n",
    "print(row_count)"
   ]
  },
  {
   "cell_type": "markdown",
   "id": "9e2a942f-2a17-4183-b4d3-390b1655dbb3",
   "metadata": {},
   "source": [
    "# **4. How many total tones of wheat have been imported in Europe from both Ukraine and Russia?**"
   ]
  },
  {
   "cell_type": "code",
   "execution_count": null,
   "id": "26fdd62a-0bf2-4e39-a4af-376582b16bb9",
   "metadata": {},
   "outputs": [],
   "source": [
    "europe_dataframe = dataframe9.loc[dataframe9['importer_region'] == 'Europe']\n",
    "europe_dataframe \n",
    "europe_dataframe['weight_1000kg_for_russia'].sum() + europe_dataframe['weight_1000kg_for_ukraine'].sum()"
   ]
  },
  {
   "cell_type": "markdown",
   "id": "34497212-809a-4c83-88c5-9af40c6593d9",
   "metadata": {},
   "source": [
    "# **5. Based on weight of total imports per capita, what are the top-10 wheat importers from both Ukraine and Russia? And what is the imported weight per capita in each top importer?**"
   ]
  },
  {
   "cell_type": "code",
   "execution_count": null,
   "id": "17a29ddc-d263-4186-a7d8-877d256ef970",
   "metadata": {},
   "outputs": [],
   "source": [
    "dataframe9['weight_per_capita'] = (dataframe9['weight_1000kg_for_russia'] + dataframe9['weight_1000kg_for_ukraine']) / dataframe9['pop']\n",
    "top_10 = dataframe9.sort_values(by='weight_per_capita', ascending=False).head(10)\n",
    "\n",
    "result_dataframe = top_10[['importer', 'weight_per_capita']]\n",
    "result_dataframe.reset_index().drop(['index'],axis=1)"
   ]
  },
  {
   "cell_type": "markdown",
   "id": "a7fe998e-0fb2-427e-b58c-19270a00845c",
   "metadata": {},
   "source": [
    "# **6. What is the total amount of money spent on wheat imports by region?**"
   ]
  },
  {
   "cell_type": "code",
   "execution_count": null,
   "id": "584eb99f-1751-4d9a-93bc-3ae39468229f",
   "metadata": {},
   "outputs": [],
   "source": [
    "dataframe9['total_wheat_imports'] = dataframe9['value_1000usd_for_russia'] + dataframe9['value_1000usd_for_ukraine']\n",
    "\n",
    "total_imports_by_region = dataframe9.groupby('importer_region')['total_wheat_imports'].sum()\n",
    "total_imports_dataframe = total_imports_by_region.reset_index(name='Total Wheat Imports')\n",
    "total_imports_dataframe"
   ]
  }
 ],
 "metadata": {
  "kernelspec": {
   "display_name": "Python 3 (ipykernel)",
   "language": "python",
   "name": "python3"
  },
  "language_info": {
   "codemirror_mode": {
    "name": "ipython",
    "version": 3
   },
   "file_extension": ".py",
   "mimetype": "text/x-python",
   "name": "python",
   "nbconvert_exporter": "python",
   "pygments_lexer": "ipython3",
   "version": "3.12.0"
  }
 },
 "nbformat": 4,
 "nbformat_minor": 5
}
